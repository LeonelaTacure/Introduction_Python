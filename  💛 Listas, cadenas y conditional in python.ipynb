{
 "cells": [
  {
   "cell_type": "code",
   "execution_count": 1,
   "metadata": {},
   "outputs": [
    {
     "name": "stdout",
     "output_type": "stream",
     "text": [
      "Enter a positive integer between 1 and 7: 4\n",
      "TUESDAY\n"
     ]
    }
   ],
   "source": [
    "#Write a program that asks the user for a positive integer between 1 and 7 \n",
    "#(Assume that the user may enter any number from 1 to 7 both inclusive) \n",
    "#and prints the day of week corresponding to that number in all capital letters.\n",
    "#Assume that the day of the week starts from MONDAY.\n",
    "\n",
    "user_response = input(\"Enter a positive integer between 1 and 7: \")\n",
    "index = int(user_response)\n",
    "week = ['MONDAY', 'TURSDAY', 'WENDESDAY', 'TUESDAY', 'FRIDAY', 'SATURDAY', 'SUNDAY']\n",
    "print(week[index-1])\n",
    "  "
   ]
  },
  {
   "cell_type": "code",
   "execution_count": 2,
   "metadata": {
    "scrolled": true
   },
   "outputs": [
    {
     "name": "stdout",
     "output_type": "stream",
     "text": [
      "20\n",
      "5.0\n"
     ]
    }
   ],
   "source": [
    "#Complete the following program such that it calculates and prints the average of the elements of the given list.\n",
    "\n",
    "sample_list = [2, 10, 3, 5]\n",
    "_sum=0\n",
    "\n",
    "for l in sample_list:\n",
    "     _sum = _sum+l\n",
    "    \n",
    "average = _sum/len(sample_list)\n",
    "\n",
    "print(_sum)\n",
    "print(average)"
   ]
  },
  {
   "cell_type": "code",
   "execution_count": 4,
   "metadata": {},
   "outputs": [
    {
     "name": "stdout",
     "output_type": "stream",
     "text": [
      "Enter anything:Cat dog\n",
      "Dog\n"
     ]
    }
   ],
   "source": [
    "#Write a program which asks the user to type a string and then: \n",
    "#Print \"Dog\" if \"dog\" is in the input string.\n",
    "#Print \"Cat\" if \"cat\" is in the input string. (if both \"dog\" and \"cat\" are in the input string then you should only print \"Dog\") \n",
    "#Otherwise prints \"None\". (Pay attention to capitalization).\n",
    "\n",
    "user_response = input(\"Enter anything:\")\n",
    "if \"dog\" in user_response:\n",
    "    print(\"Dog\")\n",
    "elif \"cat\" in user_response:\n",
    "    print(\"Cat\")\n",
    "elif \"dog\" in user_response and \"cat\" in user_response:\n",
    "    print(\"Dog\")\n",
    "else:\n",
    "    print(\"None\")  "
   ]
  },
  {
   "cell_type": "code",
   "execution_count": 6,
   "metadata": {},
   "outputs": [
    {
     "name": "stdout",
     "output_type": "stream",
     "text": [
      "Enter a number: 45\n",
      "other\n"
     ]
    }
   ],
   "source": [
    "#Write a program which asks the user to type an integer.\n",
    "#If the number is 2  then the program should print \"two\",\n",
    "#If the number is 3  then the program should print \"three\",\n",
    "#If the number is 5  then the program should print \"five\", \n",
    "#Otherwise it should print \"other\".\n",
    "\n",
    "user_response = input(\"Enter a number: \")\n",
    "x = int(user_response)\n",
    "\n",
    "if x == 2:\n",
    "    print(\"two\")\n",
    "elif x == 3:\n",
    "    print(\"three\")\n",
    "elif x==5:\n",
    "     printe(\"five\")\n",
    "else:\n",
    "    print(\"other\")"
   ]
  },
  {
   "cell_type": "code",
   "execution_count": 8,
   "metadata": {},
   "outputs": [
    {
     "name": "stdout",
     "output_type": "stream",
     "text": [
      "cat 6\n"
     ]
    }
   ],
   "source": [
    "my_list = [ 'dog', 'cat', 'worm', 2.3]\n",
    "if 'doc' in my_list:\n",
    "    my_list[1] = 4\n",
    "else:\n",
    "    my_list[2] = 6\n",
    "print (my_list[1],my_list[2])"
   ]
  },
  {
   "cell_type": "code",
   "execution_count": 9,
   "metadata": {},
   "outputs": [
    {
     "name": "stdout",
     "output_type": "stream",
     "text": [
      "70\n"
     ]
    }
   ],
   "source": [
    "x = 20\n",
    "if True :\n",
    "    x = x + 10\n",
    "if x == 20:\n",
    "    x = x + 30\n",
    "else:\n",
    "    x = x + 40\n",
    "print(x)"
   ]
  },
  {
   "cell_type": "code",
   "execution_count": 10,
   "metadata": {},
   "outputs": [
    {
     "name": "stdout",
     "output_type": "stream",
     "text": [
      "22\n"
     ]
    }
   ],
   "source": [
    "x = 4\n",
    "if \"z\" in \"computer science\":\n",
    "    x = x + 10\n",
    "elif 5 % 3 == 2:\n",
    "    x = x + 18\n",
    "elif 5>4:\n",
    "    x = x + 30\n",
    "else:\n",
    "    x = x + 5\n",
    "print (x)"
   ]
  },
  {
   "cell_type": "code",
   "execution_count": 11,
   "metadata": {},
   "outputs": [
    {
     "name": "stdout",
     "output_type": "stream",
     "text": [
      "33\n"
     ]
    }
   ],
   "source": [
    "x = \"c\"\n",
    "y = 3\n",
    "if \"x\" in \"computer science\":\n",
    "    y = y + 5\n",
    "else:\n",
    "    y = y + 10\n",
    "if x in \"computer science\":\n",
    "    y = y + 20\n",
    "else:\n",
    "    y = y + 40\n",
    "print (y)"
   ]
  },
  {
   "cell_type": "code",
   "execution_count": 12,
   "metadata": {},
   "outputs": [
    {
     "name": "stdout",
     "output_type": "stream",
     "text": [
      "How old are you?: 400\n",
      "VAMPIRE\n"
     ]
    }
   ],
   "source": [
    "#Write a program which asks the user to enter their age in years (Assume that the user always enters an integer) \n",
    "#and based on the following conditions, prints the output exactly as in the following format:\n",
    "\n",
    "#When age is less than or equal to 0, your program should print UNBORN\n",
    "#When age is greater than 0 and less than or equal to 150, your program should print ALIVE\n",
    "#When age is greater than 150, your program should print VAMPIRE\n",
    "\n",
    "user_response = input(\"How old are you?: \")\n",
    "x = int(user_response)\n",
    "\n",
    "if x <= 0:\n",
    "    print(\"UNBORN\")\n",
    "elif x>0 and x <= 150:\n",
    "    print(\"ALIVE\")\n",
    "else:\n",
    "    print(\"VAMPIRE\")"
   ]
  },
  {
   "cell_type": "code",
   "execution_count": 13,
   "metadata": {},
   "outputs": [
    {
     "name": "stdout",
     "output_type": "stream",
     "text": [
      "Enter a positive number: 45\n",
      "ONE\n"
     ]
    }
   ],
   "source": [
    "#Write a program which asks the user to enter a positive integer 'n' \n",
    "#(Assume that the user always enters a positive integer) \n",
    "#and based on the following conditions, prints the appropriate results exactly as shown in the following format:\n",
    "\n",
    "#when 'n' is divisible by both 2 and 3 (for example 12), then your program should print BOTH\n",
    "#when 'n' is divisible by only one of the numbers i.e divisible by 2 but not divisible by 3 (for example 8), \n",
    "#or divisible by 3 but not divisible by 2 (for example 9), your program should print ONE\n",
    "#when 'n' is neither divisible by 2 nor divisible by 3 (for example 25), your program should print NEITHER\n",
    "\n",
    "user_response = input(\"Enter a positive number: \")\n",
    "n = int(user_response)\n",
    "\n",
    "if n % 2 == 0 and n % 3 == 0:\n",
    "    print(\"BOTH\")\n",
    "elif (n % 2 == 0 and n % 3 != 0) or (n % 2 != 0 and n % 3 == 0):\n",
    "    print(\"ONE\")\n",
    "else:\n",
    "    print(\"NEITHER\")\n",
    " "
   ]
  },
  {
   "cell_type": "code",
   "execution_count": 14,
   "metadata": {},
   "outputs": [
    {
     "name": "stdout",
     "output_type": "stream",
     "text": [
      "How many hours do I work in the week?: 45\n",
      "YOU MADE 365 DOLLARS THIS WEEK\n"
     ]
    }
   ],
   "source": [
    "#Write a program which asks the user to enter an integer 'n' which would be the total numbers of hours the user worked \n",
    "#in a week and calculates and prints the total amount of money the user made during that week. \n",
    "#If the user enters any number less than 0 or greater than 168 (n < 0 or n > 168) then your program should print INVALID\n",
    "#Assume that hourly rate for the first 40 hours is $8 per hour.\n",
    "#Hourly rate for extra hours between 41 and 50 (41 <= n <= 50 ) is $9 per hour.\n",
    "#Hourly rate for extra hours greater than 50 is $10 per hour.\n",
    "\n",
    "#Here are a few examples:\n",
    "\n",
    "#if the user enters -5, then your program should print INVALID\n",
    "#if the user enters 34, then your program should print YOU MADE 272 DOLLARS THIS WEEK\n",
    "#if the user enters 45, then your program should print YOU MADE 365 DOLLARS THIS WEEK\n",
    "#if the user enters 67, then your program should print YOU MADE 580 DOLLARS THIS WEEK\n",
    "\n",
    "#Note that the amount of money made by the user must be an integer (not a float) and \n",
    "#your output should exactly match the format specified above (including spaces and capitalization).\n",
    "\n",
    "user_response = input(\"How many hours do I work in the week?: \")\n",
    "hours = int(user_response)\n",
    "money=0\n",
    "\n",
    "if hours < 0  or hours > 168:\n",
    "    print(\"INVALID\")\n",
    "elif hours <= 40:\n",
    "    money = hours * 8\n",
    "    print(\"YOU MADE\", money, \"DOLLARS THIS WEEK\")\n",
    "elif hours <= 50:\n",
    "    money = 40*8 + (hours-40)*9\n",
    "    print(\"YOU MADE\", money, \"DOLLARS THIS WEEK\")\n",
    "else:\n",
    "    money = 40*8 + 10*9 + (hours-50)*10\n",
    "    print(\"YOU MADE\", money, \"DOLLARS THIS WEEK\")   "
   ]
  },
  {
   "cell_type": "code",
   "execution_count": null,
   "metadata": {},
   "outputs": [],
   "source": [
    "#Write a program that asks the user to enter a positive integer n. \n",
    "#Assuming that this integer is in seconds, your program should convert the number of seconds \n",
    "#into days, hours, minutes, and seconds and prints them exactly in the format specified below. \n",
    "#Here are a few sample runs of what your program is supposed to do:\n",
    "\n",
    "#when user enters 369121517 your program should print: 4272 days 5 hours 45 minutes 17 seconds\n",
    "#when user enters 24680     your program should print: 0 days 6 hours 51 minutes 20 seconds\n",
    "#when user enters 129600    your program should print: 1 days 12 hours 0 minutes 0 seconds\n",
    "\n",
    "#Note that the numbers and words in the above output are separated by only one space. \n",
    "#All the words are in lower case. Your output should exactly match the format shown above.\n",
    "\n",
    "user_response = input(\"Enter a positive number of seconds: \")\n",
    "n = int(user_response)\n",
    "\n",
    "days = n//86400\n",
    "rest_1 = n%86400\n",
    "\n",
    "hours = rest_1//360\n",
    "rest_2 = rest_1%360\n",
    "\n",
    "minutes = (rest_2)//60\n",
    "\n",
    "seconds = rest_2%60\n",
    "\n",
    "print(days,\"days\", hours, \"hours\", minutes, \"minutes\", seconds, \"seconds\")"
   ]
  },
  {
   "cell_type": "code",
   "execution_count": 12,
   "metadata": {},
   "outputs": [
    {
     "name": "stdout",
     "output_type": "stream",
     "text": [
      "La suma de los numeros divisibles entre 5 del 1 to 101 es:  1050\n"
     ]
    }
   ],
   "source": [
    "#Write a program which prints the sum of numbers from 1 to 101 ( 1 and 101 are included)\n",
    "#hat are divisible by 5 (Use while loop)\n",
    "\n",
    "number = 1\n",
    "sum_ = 0\n",
    "\n",
    "while number < 101:\n",
    "    if number % 5 == 0:\n",
    "        sum_ = number + sum_\n",
    "    number = number + 1\n",
    "print(\"La suma de los numeros divisibles entre 5 del 1 to 101 es: \", sum_)\n"
   ]
  },
  {
   "cell_type": "code",
   "execution_count": 17,
   "metadata": {},
   "outputs": [
    {
     "name": "stdout",
     "output_type": "stream",
     "text": [
      "Enter a number: 5\n",
      "120\n"
     ]
    }
   ],
   "source": [
    "#Write a program using while loop, which asks the user to type a positive integer, n, \n",
    "#and then prints the factorial of n. A factorial is defined as the product of all the numbers from 1 to n (1 and n inclusive)\n",
    "\n",
    "user_response = input(\"Enter a number: \")\n",
    "n = int(user_response)\n",
    "\n",
    "number = 1\n",
    "factorial = 1\n",
    "\n",
    "while number <= n:\n",
    "    factorial = factorial * number\n",
    "    number = number + 1\n",
    "print(factorial)"
   ]
  },
  {
   "cell_type": "code",
   "execution_count": 22,
   "metadata": {},
   "outputs": [
    {
     "name": "stdout",
     "output_type": "stream",
     "text": [
      "12\n"
     ]
    }
   ],
   "source": [
    "#Write a program using while loop, which prints the sum of every third numbers from 1 to 1001 ( both 1 and 1001 are included)\n",
    "#(1 + 4 + 7 + 10 + ....)\n",
    "\n",
    "# Type your code here\n",
    "\n",
    "number = 1\n",
    "sum_ = 0\n",
    "\n",
    "while number < 10:\n",
    "    sum_ = sum_ + number\n",
    "    number = number + 3\n",
    "print(sum_)"
   ]
  },
  {
   "cell_type": "code",
   "execution_count": null,
   "metadata": {},
   "outputs": [],
   "source": []
  }
 ],
 "metadata": {
  "kernelspec": {
   "display_name": "Python 3",
   "language": "python",
   "name": "python3"
  }
 },
 "nbformat": 4,
 "nbformat_minor": 2
}
