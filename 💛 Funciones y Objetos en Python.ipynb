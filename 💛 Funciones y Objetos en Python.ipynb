{
 "cells": [
  {
   "cell_type": "markdown",
   "metadata": {},
   "source": [
    " ### Funciones y Objetos en Python 💛\n",
    " \n",
    " ##### 📌 Función que identifica si un número es Primo "
   ]
  },
  {
   "cell_type": "code",
   "execution_count": 22,
   "metadata": {},
   "outputs": [],
   "source": [
    "def simple_primo(x):\n",
    "    for i in range(2,x):\n",
    "        if x%i == 0:\n",
    "            print(x, 'no es primo')\n",
    "        else:\n",
    "            print(x,'es primo')         \n",
    "        break"
   ]
  },
  {
   "cell_type": "code",
   "execution_count": 32,
   "metadata": {},
   "outputs": [
    {
     "name": "stdout",
     "output_type": "stream",
     "text": [
      "26 no es primo\n"
     ]
    }
   ],
   "source": [
    "simple_primo(26)"
   ]
  },
  {
   "cell_type": "markdown",
   "metadata": {},
   "source": [
    " ##### 📌 Función que halla el Máximo Común Divisor de 2 números"
   ]
  },
  {
   "cell_type": "code",
   "execution_count": null,
   "metadata": {},
   "outputs": [],
   "source": [
    "def mcd(x,y):\n",
    "    "
   ]
  },
  {
   "cell_type": "code",
   "execution_count": null,
   "metadata": {},
   "outputs": [],
   "source": [
    "#if the user enters -5, then your program should print INVALID\n",
    "#if the user enters 34, then your program should print YOU MADE 272 DOLLARS THIS WEEK\n",
    "#if the user enters 45, then your program should print YOU MADE 365 DOLLARS THIS WEEK\n",
    "#if the user enters 67, then your program should print YOU MADE 580 DOLLARS THIS WEEK\n",
    "\n",
    "#Note that the amount of money made by the user must be an integer (not a float) and \n",
    "#your output should exactly match the format specified above (including spaces and capitalization).\n",
    "\n",
    "user_response = input(\"How many hours do I work in the week?: \")\n",
    "hours = int(user_response)\n",
    "\n",
    "if hours < 0  or hours > 168:\n",
    "    print(\"INVALID\")\n",
    "elif hours <= 40:\n",
    "    money = hours * 8\n",
    "    print(\"YOU MADE\", money, \"DOLLARS THIS WEEK\")\n",
    "elif hours <= 50:\n",
    "    money = 40*8 + (hours-40)*9\n",
    "    print(\"YOU MADE\", money, \"DOLLARS THIS WEEK\")\n",
    "else:\n",
    "    money = 40*8 + 10*9 + (hours-50)*10\n",
    "    print(\"YOU MADE\", money, \"DOLLARS THIS WEEK\")   "
   ]
  },
  {
   "cell_type": "code",
   "execution_count": null,
   "metadata": {},
   "outputs": [],
   "source": [
    "number = 0\n",
    "sum_ = 0\n",
    "\n",
    "while number <= 10:\n",
    "    number = number % 5 == 0\n",
    "    #print(number)\n",
    "    sum_ = sum_ + number\n",
    "print(\"La suma de los multiplos de 5 del 1 to 101 es: \", sum)"
   ]
  },
  {
   "cell_type": "code",
   "execution_count": null,
   "metadata": {},
   "outputs": [],
   "source": []
  }
 ],
 "metadata": {
  "kernelspec": {
   "display_name": "Python 3",
   "language": "python",
   "name": "python3"
  },
  "language_info": {
   "codemirror_mode": {
    "name": "ipython",
    "version": 3
   },
   "file_extension": ".py",
   "mimetype": "text/x-python",
   "name": "python",
   "nbconvert_exporter": "python",
   "pygments_lexer": "ipython3",
   "version": "3.7.4"
  }
 },
 "nbformat": 4,
 "nbformat_minor": 2
}
