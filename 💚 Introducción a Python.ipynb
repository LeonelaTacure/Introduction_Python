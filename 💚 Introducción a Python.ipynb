{
 "cells": [
  {
   "cell_type": "markdown",
   "metadata": {},
   "source": [
    "# Introducción a Python 💚\n",
    "### Python 🐍\n",
    "> Python es un lenguaje de programación con sintaxis que favorece el código legible. Es muy utilizado para la ingienería, la investigación, en el mundo de la Inteligencia Artificial y Machine Learning. ¡Vamos a conocerlo y sabrán que lo pueden utilizar en diferentes áreas!\n",
    "    \n",
    "### Ventajas de utilizar Python\n",
    "    ◾ Es un lenguaje de programación de alto nivel.\n",
    "    ◾ Es Open Source con una gran comunidad por detrás que te ayudará con cualquier duda.\n",
    "    ◾ Interpretado\n",
    "    \n",
    "> Fue creado por Guido Van Rossum, quien trabaja en Google. Nombró el lenguaje en honor a Monthy Python.\n",
    "\n",
    "87u\n",
    "\n",
    "    "
   ]
  },
  {
   "cell_type": "code",
   "execution_count": 23,
   "metadata": {},
   "outputs": [],
   "source": [
    "import numpy as np\n",
    "from scipy import stats # importando scipy.stats\n",
    "%matplotlib inline \n",
    "\n",
    "import matplotlib.pyplot as plt # importando matplotlib\n",
    "import seaborn as sns # importando seaborn"
   ]
  },
  {
   "cell_type": "code",
   "execution_count": 51,
   "metadata": {},
   "outputs": [
    {
     "data": {
      "text/plain": [
       "2.0419951115510013"
      ]
     },
     "execution_count": 51,
     "metadata": {},
     "output_type": "execute_result"
    }
   ],
   "source": [
    "datos = (1,2,3,4,5,6)\n",
    "datos\n",
    "np.var(values)"
   ]
  },
  {
   "cell_type": "code",
   "execution_count": 63,
   "metadata": {},
   "outputs": [
    {
     "data": {
      "text/plain": [
       "array([3.40328532, 2.85732375, 2.61328692, 3.46894865, 1.60959694,\n",
       "       1.59745157, 1.50685752, 5.6470083 , 2.40181266, 2.8444447 ])"
      ]
     },
     "execution_count": 63,
     "metadata": {},
     "output_type": "execute_result"
    }
   ],
   "source": [
    "values = np.random.uniform(1,6,10) \n",
    "values"
   ]
  },
  {
   "cell_type": "code",
   "execution_count": 61,
   "metadata": {},
   "outputs": [
    {
     "data": {
      "text/plain": [
       "2.881702490997639"
      ]
     },
     "execution_count": 61,
     "metadata": {},
     "output_type": "execute_result"
    }
   ],
   "source": [
    "np.var(values)"
   ]
  },
  {
   "cell_type": "code",
   "execution_count": 47,
   "metadata": {},
   "outputs": [
    {
     "ename": "TypeError",
     "evalue": "pdf() missing 1 required positional argument: 'x'",
     "output_type": "error",
     "traceback": [
      "\u001b[1;31m---------------------------------------------------------------------------\u001b[0m",
      "\u001b[1;31mTypeError\u001b[0m                                 Traceback (most recent call last)",
      "\u001b[1;32m<ipython-input-47-46a1a21fb541>\u001b[0m in \u001b[0;36m<module>\u001b[1;34m\u001b[0m\n\u001b[0;32m      3\u001b[0m np.linspace(uniforme.ppf(0.01),\n\u001b[0;32m      4\u001b[0m               uniforme.ppf(0.99), 10)\n\u001b[1;32m----> 5\u001b[1;33m \u001b[0mfp\u001b[0m \u001b[1;33m=\u001b[0m \u001b[0muniforme\u001b[0m\u001b[1;33m.\u001b[0m\u001b[0mpdf\u001b[0m\u001b[1;33m(\u001b[0m\u001b[1;33m)\u001b[0m \u001b[1;31m# Función de Probabilidad\u001b[0m\u001b[1;33m\u001b[0m\u001b[1;33m\u001b[0m\u001b[0m\n\u001b[0m\u001b[0;32m      6\u001b[0m \u001b[0mfp\u001b[0m\u001b[1;33m\u001b[0m\u001b[1;33m\u001b[0m\u001b[0m\n\u001b[0;32m      7\u001b[0m \u001b[1;31m#fig, ax = plt.subplots()\u001b[0m\u001b[1;33m\u001b[0m\u001b[1;33m\u001b[0m\u001b[1;33m\u001b[0m\u001b[0m\n",
      "\u001b[1;31mTypeError\u001b[0m: pdf() missing 1 required positional argument: 'x'"
     ]
    }
   ],
   "source": [
    "# Graficando Uniforme\n",
    "uniforme = stats.uniform()\n",
    "np.linspace(uniforme.ppf(0.01),\n",
    "              uniforme.ppf(0.99), 10)\n",
    "fp = uniforme.pdf() # Función de Probabilidad\n",
    "fp\n",
    "#fig, ax = plt.subplots()\n",
    "#ax.plot(x, fp, '--')\n",
    "#ax.vlines(x, 0, fp, colors='b', lw=5, alpha=0.5)\n",
    "#ax.set_yticks([0., 0.2, 0.4, 0.6, 0.8, 1., 1.2])\n",
    "#plt.title('Distribución Uniforme')\n",
    "#plt.ylabel('probabilidad')\n",
    "#plt.xlabel('valores')\n",
    "#plt.show()"
   ]
  },
  {
   "cell_type": "code",
   "execution_count": 74,
   "metadata": {
    "scrolled": true
   },
   "outputs": [],
   "source": [
    "#f(x)=3x^4-8x^3+6x^2-12 on [-3,3] *\n",
    "x = (-3, -2, -1, 0, 1, 2, 3)\n",
    "def f(x):\n",
    "    for i in x:\n",
    "        f = lambda x: 3*x[i]^4 - 8*x[i]^3 + 6*x[i]^2 - 12\n",
    "        minimo = 0\n",
    "        if f(x[i]) > f(x[i]):\n",
    "            minimo-=f(x[i])\n",
    "        break\n",
    "    return minimo\n",
    "\n",
    "    "
   ]
  },
  {
   "cell_type": "code",
   "execution_count": 85,
   "metadata": {},
   "outputs": [
    {
     "data": {
      "text/plain": [
       "6"
      ]
     },
     "execution_count": 85,
     "metadata": {},
     "output_type": "execute_result"
    }
   ],
   "source": [
    "3*(3)^4 - 8*(3)^3 + 6*(3)^2 - 12\n",
    "\n"
   ]
  }
 ],
 "metadata": {
  "kernelspec": {
   "display_name": "Python 3",
   "language": "python",
   "name": "python3"
  },
  "language_info": {
   "codemirror_mode": {
    "name": "ipython",
    "version": 3
   },
   "file_extension": ".py",
   "mimetype": "text/x-python",
   "name": "python",
   "nbconvert_exporter": "python",
   "pygments_lexer": "ipython3",
   "version": "3.7.4"
  }
 },
 "nbformat": 4,
 "nbformat_minor": 2
}
